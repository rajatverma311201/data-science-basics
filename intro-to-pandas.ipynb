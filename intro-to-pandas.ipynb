{
 "cells": [
  {
   "cell_type": "code",
   "execution_count": 2,
   "id": "d0ebc532-3ad1-406a-9d09-f22937eb1d28",
   "metadata": {},
   "outputs": [],
   "source": [
    "import pandas as pd"
   ]
  },
  {
   "cell_type": "markdown",
   "id": "a0880892-fa40-4009-9c88-3a53e8016d08",
   "metadata": {},
   "source": [
    "# Two types of datatypes in pd\n",
    "## 1. Series\n",
    "## 2. Dataframes"
   ]
  },
  {
   "cell_type": "markdown",
   "id": "5c49d94b-5712-4bda-b7ef-6dd589c30fef",
   "metadata": {},
   "source": [
    "# Series\n",
    "- Series are 1-D"
   ]
  },
  {
   "cell_type": "code",
   "execution_count": 4,
   "id": "437f8f4a-4c77-41cf-983a-728b0ea906aa",
   "metadata": {},
   "outputs": [
    {
     "data": {
      "text/plain": [
       "0       BMW\n",
       "1    Toyota\n",
       "2     Volvo\n",
       "dtype: object"
      ]
     },
     "execution_count": 4,
     "metadata": {},
     "output_type": "execute_result"
    }
   ],
   "source": [
    "cars = pd.Series([\"BMW\", \"Toyota\", \"Volvo\"])\n",
    "cars"
   ]
  },
  {
   "cell_type": "code",
   "execution_count": null,
   "id": "9560fa73-93c6-4722-87d7-6769a780abfd",
   "metadata": {},
   "outputs": [],
   "source": [
    "colors = pd.Series([\"Red\", \"Blue\", \"Green\", \"Yellow\"])\n"
   ]
  }
 ],
 "metadata": {
  "kernelspec": {
   "display_name": "Python 3 (ipykernel)",
   "language": "python",
   "name": "python3"
  },
  "language_info": {
   "codemirror_mode": {
    "name": "ipython",
    "version": 3
   },
   "file_extension": ".py",
   "mimetype": "text/x-python",
   "name": "python",
   "nbconvert_exporter": "python",
   "pygments_lexer": "ipython3",
   "version": "3.11.5"
  }
 },
 "nbformat": 4,
 "nbformat_minor": 5
}
